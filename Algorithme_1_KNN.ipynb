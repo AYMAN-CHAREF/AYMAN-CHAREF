{
  "nbformat": 4,
  "nbformat_minor": 0,
  "metadata": {
    "colab": {
      "provenance": [],
      "authorship_tag": "ABX9TyMloZm8U78fY8wmzjfO25GQ",
      "include_colab_link": true
    },
    "kernelspec": {
      "name": "python3",
      "display_name": "Python 3"
    },
    "language_info": {
      "name": "python"
    }
  },
  "cells": [
    {
      "cell_type": "markdown",
      "metadata": {
        "id": "view-in-github",
        "colab_type": "text"
      },
      "source": [
        "<a href=\"https://colab.research.google.com/github/AYMAN-CHAREF/AYMAN-CHAREF/blob/main/Algorithme_1_KNN.ipynb\" target=\"_parent\"><img src=\"https://colab.research.google.com/assets/colab-badge.svg\" alt=\"Open In Colab\"/></a>"
      ]
    },
    {
      "cell_type": "code",
      "source": [
        "import numpy as np\n",
        "import matplotlib.pyplot as plt\n",
        "from sklearn .datasets import make_regression\n",
        "from sklearn .model_selection import StratifiedGroupKFold"
      ],
      "metadata": {
        "id": "J1ndarMk5EoW"
      },
      "execution_count": null,
      "outputs": []
    },
    {
      "cell_type": "markdown",
      "source": [
        "**Creation de la base de donnee**"
      ],
      "metadata": {
        "id": "D_JynI0U5YPo"
      }
    },
    {
      "cell_type": "code",
      "source": [
        "X,Y = make_regression(n_samples=10, n =n_features=2, noise = 3)\n",
        "\n",
        "E={\"X\":X \"Y\":Y}\n",
        "display(E)"
      ],
      "metadata": {
        "id": "5qf0ZYAk5tK-"
      },
      "execution_count": null,
      "outputs": []
    },
    {
      "cell_type": "markdown",
      "source": [
        "**implementation de KNN**"
      ],
      "metadata": {
        "id": "IiS0StQO59p0"
      }
    },
    {
      "cell_type": "code",
      "source": [
        "#fonction pour calculer la distance\n",
        "def distanceEucl(A,B):\n",
        "  return np.str_(np.sum((np.array(x1) - np.array(x2))**2))"
      ],
      "metadata": {
        "id": "3IDp1BlR59O7"
      },
      "execution_count": null,
      "outputs": []
    },
    {
      "cell_type": "code",
      "source": [
        "#fonction pour trier\n",
        "def SortList(distances):\n",
        "  return distances.sort(key=lambda tup: tup[0])"
      ],
      "metadata": {
        "id": "VhYU_HvF-fZb"
      },
      "execution_count": null,
      "outputs": []
    },
    {
      "cell_type": "code",
      "source": [
        "#fonction KNN\n",
        "def KNN(E,x,k, T=\"Reegression\"):\n",
        "  distance=[]\n",
        "  for xi , yi in E :\n",
        "    d=distanceEucl(xi,x)\n",
        "    distances.append((d,yi))\n",
        "  distances=SortList(distances)\n",
        "  kvoisin=distances[0:k]\n",
        "  Etiquettes = kvoisin[:,1]\n",
        "  if T = \"regresion\"\n",
        "       return np.mean(Etiquettes)\n",
        "  else:\n",
        "\n",
        "\n"
      ],
      "metadata": {
        "id": "xiFgMhB5-1lR"
      },
      "execution_count": null,
      "outputs": []
    }
  ]
}